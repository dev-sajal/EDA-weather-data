{
 "cells": [
  {
   "cell_type": "markdown",
   "metadata": {},
   "source": [
    "### Directions\n",
    "    - The data required for this task has been provided in the file 'data.csv'\n",
    "    - Read the questions provided for each cell and assign your answers to respective variables provided in the following cell.\n",
    "    - If answers are floating point numbers round of updo two floating point after the decimal\n",
    "      - for example 10.546 should be read as 10.55, 10.544 as 10.54 and 10.1 as 10.10\n",
    "    - pandas and numpy packages are preinstalled for this task which should be sufficient to complete this task.\n",
    "    - If you need any other additional package run !pip3 install <package_name> --user in a new cell.\n",
    "    - You can either try out the solution in the same notebook or free to create additional notebook, but make sure you come back to this notebook to answer the questions.\n",
    "    - Please dont change variable name meant to assign your answers.\n",
    "    - You can create a new notebook to write your scripts for EDA and use this notebook to assign the answers."
   ]
  },
  {
   "cell_type": "code",
   "execution_count": 2,
   "metadata": {},
   "outputs": [],
   "source": [
    "import pandas as pd\n",
    "import numpy as np"
   ]
  },
  {
   "cell_type": "code",
   "execution_count": 3,
   "metadata": {},
   "outputs": [
    {
     "data": {
      "text/html": [
       "<div>\n",
       "<style scoped>\n",
       "    .dataframe tbody tr th:only-of-type {\n",
       "        vertical-align: middle;\n",
       "    }\n",
       "\n",
       "    .dataframe tbody tr th {\n",
       "        vertical-align: top;\n",
       "    }\n",
       "\n",
       "    .dataframe thead th {\n",
       "        text-align: right;\n",
       "    }\n",
       "</style>\n",
       "<table border=\"1\" class=\"dataframe\">\n",
       "  <thead>\n",
       "    <tr style=\"text-align: right;\">\n",
       "      <th></th>\n",
       "      <th>Average temperature (°F)</th>\n",
       "      <th>Average humidity (%)</th>\n",
       "      <th>Average dewpoint (°F)</th>\n",
       "      <th>Average barometer (in)</th>\n",
       "      <th>Average windspeed (mph)</th>\n",
       "      <th>Average gustspeed (mph)</th>\n",
       "      <th>Average direction (°deg)</th>\n",
       "      <th>Rainfall for month (in)</th>\n",
       "      <th>Rainfall for year (in)</th>\n",
       "      <th>Maximum rain per minute</th>\n",
       "      <th>Maximum temperature (°F)</th>\n",
       "      <th>Minimum temperature (°F)</th>\n",
       "      <th>Maximum humidity (%)</th>\n",
       "      <th>Minimum humidity (%)</th>\n",
       "      <th>Maximum pressure</th>\n",
       "      <th>Minimum pressure</th>\n",
       "      <th>Maximum windspeed (mph)</th>\n",
       "      <th>Maximum gust speed (mph)</th>\n",
       "      <th>Maximum heat index (°F)</th>\n",
       "    </tr>\n",
       "    <tr>\n",
       "      <th>Day</th>\n",
       "      <th></th>\n",
       "      <th></th>\n",
       "      <th></th>\n",
       "      <th></th>\n",
       "      <th></th>\n",
       "      <th></th>\n",
       "      <th></th>\n",
       "      <th></th>\n",
       "      <th></th>\n",
       "      <th></th>\n",
       "      <th></th>\n",
       "      <th></th>\n",
       "      <th></th>\n",
       "      <th></th>\n",
       "      <th></th>\n",
       "      <th></th>\n",
       "      <th></th>\n",
       "      <th></th>\n",
       "      <th></th>\n",
       "    </tr>\n",
       "  </thead>\n",
       "  <tbody>\n",
       "    <tr>\n",
       "      <th>2009-01-01</th>\n",
       "      <td>37.8</td>\n",
       "      <td>35</td>\n",
       "      <td>12.7</td>\n",
       "      <td>29.7</td>\n",
       "      <td>26.4</td>\n",
       "      <td>36.8</td>\n",
       "      <td>274</td>\n",
       "      <td>0.0</td>\n",
       "      <td>0.0</td>\n",
       "      <td>0.0</td>\n",
       "      <td>40.1</td>\n",
       "      <td>34.5</td>\n",
       "      <td>44</td>\n",
       "      <td>27</td>\n",
       "      <td>29.762</td>\n",
       "      <td>29.596</td>\n",
       "      <td>41.4</td>\n",
       "      <td>59.0</td>\n",
       "      <td>40.1</td>\n",
       "    </tr>\n",
       "    <tr>\n",
       "      <th>2009-02-01</th>\n",
       "      <td>43.2</td>\n",
       "      <td>32</td>\n",
       "      <td>14.7</td>\n",
       "      <td>29.5</td>\n",
       "      <td>12.8</td>\n",
       "      <td>18.0</td>\n",
       "      <td>240</td>\n",
       "      <td>0.0</td>\n",
       "      <td>0.0</td>\n",
       "      <td>0.0</td>\n",
       "      <td>52.8</td>\n",
       "      <td>37.5</td>\n",
       "      <td>43</td>\n",
       "      <td>16</td>\n",
       "      <td>29.669</td>\n",
       "      <td>29.268</td>\n",
       "      <td>35.7</td>\n",
       "      <td>51.0</td>\n",
       "      <td>52.8</td>\n",
       "    </tr>\n",
       "    <tr>\n",
       "      <th>2009-03-01</th>\n",
       "      <td>25.7</td>\n",
       "      <td>60</td>\n",
       "      <td>12.7</td>\n",
       "      <td>29.7</td>\n",
       "      <td>8.3</td>\n",
       "      <td>12.2</td>\n",
       "      <td>290</td>\n",
       "      <td>0.0</td>\n",
       "      <td>0.0</td>\n",
       "      <td>0.0</td>\n",
       "      <td>41.2</td>\n",
       "      <td>6.7</td>\n",
       "      <td>89</td>\n",
       "      <td>35</td>\n",
       "      <td>30.232</td>\n",
       "      <td>29.260</td>\n",
       "      <td>25.3</td>\n",
       "      <td>38.0</td>\n",
       "      <td>41.2</td>\n",
       "    </tr>\n",
       "    <tr>\n",
       "      <th>2009-04-01</th>\n",
       "      <td>9.3</td>\n",
       "      <td>67</td>\n",
       "      <td>0.1</td>\n",
       "      <td>30.4</td>\n",
       "      <td>2.9</td>\n",
       "      <td>4.5</td>\n",
       "      <td>47</td>\n",
       "      <td>0.0</td>\n",
       "      <td>0.0</td>\n",
       "      <td>0.0</td>\n",
       "      <td>19.4</td>\n",
       "      <td>-0.0</td>\n",
       "      <td>79</td>\n",
       "      <td>35</td>\n",
       "      <td>30.566</td>\n",
       "      <td>30.227</td>\n",
       "      <td>12.7</td>\n",
       "      <td>20.0</td>\n",
       "      <td>32.0</td>\n",
       "    </tr>\n",
       "    <tr>\n",
       "      <th>2009-05-01</th>\n",
       "      <td>23.5</td>\n",
       "      <td>30</td>\n",
       "      <td>-5.3</td>\n",
       "      <td>29.9</td>\n",
       "      <td>16.7</td>\n",
       "      <td>23.1</td>\n",
       "      <td>265</td>\n",
       "      <td>0.0</td>\n",
       "      <td>0.0</td>\n",
       "      <td>0.0</td>\n",
       "      <td>30.3</td>\n",
       "      <td>15.1</td>\n",
       "      <td>56</td>\n",
       "      <td>13</td>\n",
       "      <td>30.233</td>\n",
       "      <td>29.568</td>\n",
       "      <td>38.0</td>\n",
       "      <td>53.0</td>\n",
       "      <td>32.0</td>\n",
       "    </tr>\n",
       "  </tbody>\n",
       "</table>\n",
       "</div>"
      ],
      "text/plain": [
       "            Average temperature (°F)  Average humidity (%)  \\\n",
       "Day                                                          \n",
       "2009-01-01                      37.8                    35   \n",
       "2009-02-01                      43.2                    32   \n",
       "2009-03-01                      25.7                    60   \n",
       "2009-04-01                       9.3                    67   \n",
       "2009-05-01                      23.5                    30   \n",
       "\n",
       "            Average dewpoint (°F)  Average barometer (in)  \\\n",
       "Day                                                         \n",
       "2009-01-01                   12.7                    29.7   \n",
       "2009-02-01                   14.7                    29.5   \n",
       "2009-03-01                   12.7                    29.7   \n",
       "2009-04-01                    0.1                    30.4   \n",
       "2009-05-01                   -5.3                    29.9   \n",
       "\n",
       "            Average windspeed (mph)  Average gustspeed (mph)  \\\n",
       "Day                                                            \n",
       "2009-01-01                     26.4                     36.8   \n",
       "2009-02-01                     12.8                     18.0   \n",
       "2009-03-01                      8.3                     12.2   \n",
       "2009-04-01                      2.9                      4.5   \n",
       "2009-05-01                     16.7                     23.1   \n",
       "\n",
       "            Average direction (°deg)  Rainfall for month (in)  \\\n",
       "Day                                                             \n",
       "2009-01-01                       274                      0.0   \n",
       "2009-02-01                       240                      0.0   \n",
       "2009-03-01                       290                      0.0   \n",
       "2009-04-01                        47                      0.0   \n",
       "2009-05-01                       265                      0.0   \n",
       "\n",
       "            Rainfall for year (in)  Maximum rain per minute   \\\n",
       "Day                                                            \n",
       "2009-01-01                     0.0                       0.0   \n",
       "2009-02-01                     0.0                       0.0   \n",
       "2009-03-01                     0.0                       0.0   \n",
       "2009-04-01                     0.0                       0.0   \n",
       "2009-05-01                     0.0                       0.0   \n",
       "\n",
       "            Maximum temperature (°F)  Minimum temperature (°F)  \\\n",
       "Day                                                              \n",
       "2009-01-01                      40.1                      34.5   \n",
       "2009-02-01                      52.8                      37.5   \n",
       "2009-03-01                      41.2                       6.7   \n",
       "2009-04-01                      19.4                      -0.0   \n",
       "2009-05-01                      30.3                      15.1   \n",
       "\n",
       "            Maximum humidity (%)  Minimum humidity (%)  Maximum pressure   \\\n",
       "Day                                                                         \n",
       "2009-01-01                    44                    27             29.762   \n",
       "2009-02-01                    43                    16             29.669   \n",
       "2009-03-01                    89                    35             30.232   \n",
       "2009-04-01                    79                    35             30.566   \n",
       "2009-05-01                    56                    13             30.233   \n",
       "\n",
       "            Minimum pressure   Maximum windspeed (mph)  \\\n",
       "Day                                                      \n",
       "2009-01-01             29.596                     41.4   \n",
       "2009-02-01             29.268                     35.7   \n",
       "2009-03-01             29.260                     25.3   \n",
       "2009-04-01             30.227                     12.7   \n",
       "2009-05-01             29.568                     38.0   \n",
       "\n",
       "            Maximum gust speed (mph)  Maximum heat index (°F)  \n",
       "Day                                                            \n",
       "2009-01-01                      59.0                     40.1  \n",
       "2009-02-01                      51.0                     52.8  \n",
       "2009-03-01                      38.0                     41.2  \n",
       "2009-04-01                      20.0                     32.0  \n",
       "2009-05-01                      53.0                     32.0  "
      ]
     },
     "execution_count": 3,
     "metadata": {},
     "output_type": "execute_result"
    }
   ],
   "source": [
    "data = pd.read_csv(\"data.csv\")\n",
    "data[\"Day\"] = pd.to_datetime(data[\"Day\"])\n",
    "data.set_index(\"Day\", inplace=True)"
   ]
  },
  {
   "cell_type": "markdown",
   "metadata": {},
   "source": [
    "### What is the standard deviation of maximum windspeed across all the days"
   ]
  },
  {
   "cell_type": "code",
   "execution_count": 4,
   "metadata": {},
   "outputs": [
    {
     "data": {
      "text/plain": [
       "13.06"
      ]
     },
     "execution_count": 4,
     "metadata": {},
     "output_type": "execute_result"
    }
   ],
   "source": [
    "ws_std = round(data[\"Maximum windspeed (mph)\"].std(), 2)\n",
    "ws_std"
   ]
  },
  {
   "cell_type": "markdown",
   "metadata": {},
   "source": [
    "### What is the difference between 50th percentile and 75th percentile of average temperature"
   ]
  },
  {
   "cell_type": "code",
   "execution_count": 5,
   "metadata": {},
   "outputs": [
    {
     "data": {
      "text/plain": [
       "12.2"
      ]
     },
     "execution_count": 5,
     "metadata": {},
     "output_type": "execute_result"
    }
   ],
   "source": [
    "p_range = round(data[\"Average temperature (°F)\"].quantile(0.75) - data[\"Average temperature (°F)\"].quantile(), 2)\n",
    "p_range"
   ]
  },
  {
   "cell_type": "markdown",
   "metadata": {},
   "source": [
    "### What is the pearson correlation between average dew point and average temperature"
   ]
  },
  {
   "cell_type": "code",
   "execution_count": 6,
   "metadata": {},
   "outputs": [
    {
     "data": {
      "text/plain": [
       "0.76"
      ]
     },
     "execution_count": 6,
     "metadata": {},
     "output_type": "execute_result"
    }
   ],
   "source": [
    "corr = round(data[\"Average dewpoint (°F)\"].corr(data[\"Average temperature (°F)\"]), 2)\n",
    "corr"
   ]
  },
  {
   "cell_type": "markdown",
   "metadata": {},
   "source": [
    "### Out of all the available records which month has the lowest average humidity.\n",
    "    - Assign your answer as month index, for example if its July index is 7"
   ]
  },
  {
   "cell_type": "code",
   "execution_count": 12,
   "metadata": {},
   "outputs": [
    {
     "data": {
      "text/plain": [
       "1"
      ]
     },
     "execution_count": 12,
     "metadata": {},
     "output_type": "execute_result"
    }
   ],
   "source": [
    "dew_month = data[\"Average humidity (%)\"].idxmin().month\n",
    "dew_month"
   ]
  },
  {
   "cell_type": "markdown",
   "metadata": {},
   "source": [
    "### Which month has the highest median for maximum_gust_speed out of all the available records. Also find the repective value\n",
    "    - hint: group by month"
   ]
  },
  {
   "cell_type": "code",
   "execution_count": 13,
   "metadata": {},
   "outputs": [
    {
     "data": {
      "text/plain": [
       "(32.2, 11)"
      ]
     },
     "execution_count": 13,
     "metadata": {},
     "output_type": "execute_result"
    }
   ],
   "source": [
    "_ = data[\"Maximum gust speed (mph)\"].groupby(data.index.month).median()\n",
    "max_gust_value = _.max()\n",
    "# max_gust_value = 34.50\n",
    "max_gust_month = _.idxmax()\n",
    "# max_gust_month = 2\n",
    "max_gust_value, max_gust_month"
   ]
  },
  {
   "cell_type": "markdown",
   "metadata": {},
   "source": [
    "### Determine the average temperature between the months of March 2010 to May 2012 (including both the months)"
   ]
  },
  {
   "cell_type": "code",
   "execution_count": 21,
   "metadata": {},
   "outputs": [
    {
     "data": {
      "text/plain": [
       "45.6"
      ]
     },
     "execution_count": 21,
     "metadata": {},
     "output_type": "execute_result"
    }
   ],
   "source": [
    "# avg_temp = 45.33\n",
    "avg_temp = round(data.loc[\"2010-03-01\":\"2012-05-31\", \"Average temperature (°F)\"].mean(), 2)\n",
    "avg_temp"
   ]
  },
  {
   "cell_type": "markdown",
   "metadata": {},
   "source": [
    "### Find the range of averange temperature  on Dec 2010 "
   ]
  },
  {
   "cell_type": "code",
   "execution_count": 22,
   "metadata": {},
   "outputs": [
    {
     "data": {
      "text/plain": [
       "66.6"
      ]
     },
     "execution_count": 22,
     "metadata": {},
     "output_type": "execute_result"
    }
   ],
   "source": [
    "# temp_range = 44.80\n",
    "_ = data[(data.index.year == 2010) & (data.index.month == 12)][\"Average temperature (°F)\"]\n",
    "temp_range = round(_.max() - _.min(), 2)\n",
    "temp_range"
   ]
  },
  {
   "cell_type": "markdown",
   "metadata": {},
   "source": [
    "### Out of all available records which day has the highest difference between maximum_pressure and minimum_pressure\n",
    "    - assign the date in string format as 'yyyy-mm-dd'. Make sure you enclose it with single quote"
   ]
  },
  {
   "cell_type": "code",
   "execution_count": 18,
   "metadata": {},
   "outputs": [
    {
     "data": {
      "text/plain": [
       "'2018-03-23'"
      ]
     },
     "execution_count": 18,
     "metadata": {},
     "output_type": "execute_result"
    }
   ],
   "source": [
    "max_p_range_day = (data[\"Maximum pressure \"] - data[\"Minimum pressure \"]).idxmax().strftime(\"%Y-%m-%d\")\n",
    "max_p_range_day"
   ]
  },
  {
   "cell_type": "markdown",
   "metadata": {},
   "source": [
    "### How many days falls under median (i.e equal to median value) of barrometer reading."
   ]
  },
  {
   "cell_type": "code",
   "execution_count": 19,
   "metadata": {},
   "outputs": [
    {
     "data": {
      "text/plain": [
       "534"
      ]
     },
     "execution_count": 19,
     "metadata": {},
     "output_type": "execute_result"
    }
   ],
   "source": [
    "median_b_days = (data[\"Average barometer (in)\"] == data[\"Average barometer (in)\"].median()).sum()\n",
    "median_b_days"
   ]
  },
  {
   "cell_type": "markdown",
   "metadata": {},
   "source": [
    "### Out of all the available records how many days are within one standard deviation of average temperaturem"
   ]
  },
  {
   "cell_type": "code",
   "execution_count": 20,
   "metadata": {},
   "outputs": [
    {
     "data": {
      "text/plain": [
       "2092"
      ]
     },
     "execution_count": 20,
     "metadata": {},
     "output_type": "execute_result"
    }
   ],
   "source": [
    "avg_temp_std = data[\"Average temperature (°F)\"].std()\n",
    "avg_temp_mean = data[\"Average temperature (°F)\"].mean()\n",
    "num_days_std = ((data[\"Average temperature (°F)\"] > avg_temp_mean-avg_temp_std) & (data[\"Average temperature (°F)\"] < avg_temp_mean+avg_temp_std)).sum()\n",
    "num_days_std"
   ]
  },
  {
   "cell_type": "markdown",
   "metadata": {},
   "source": [
    "## Once you are done with your solution make sure you have saved the notebook (ctrl + s)"
   ]
  }
 ],
 "metadata": {
  "kernelspec": {
   "display_name": "Python 3",
   "language": "python",
   "name": "python3"
  },
  "language_info": {
   "codemirror_mode": {
    "name": "ipython",
    "version": 3
   },
   "file_extension": ".py",
   "mimetype": "text/x-python",
   "name": "python",
   "nbconvert_exporter": "python",
   "pygments_lexer": "ipython3",
   "version": "3.5.2"
  }
 },
 "nbformat": 4,
 "nbformat_minor": 2
}
